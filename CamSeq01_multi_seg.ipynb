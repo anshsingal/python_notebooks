{
 "cells": [
  {
   "cell_type": "code",
   "execution_count": 2,
   "metadata": {},
   "outputs": [
    {
     "name": "stderr",
     "output_type": "stream",
     "text": [
      "Using TensorFlow backend.\n"
     ]
    }
   ],
   "source": [
    "import numpy as np\n",
    "import seaborn as sns\n",
    "import sklearn\n",
    "import matplotlib.pyplot as plt\n",
    "import pandas as pd\n",
    "import keras\n",
    "import tensorflow\n",
    "from keras.models import Model, load_model\n",
    "from keras.layers import Input, Conv2D, MaxPooling2D, BatchNormalization, Activation, Concatenate, Dropout, Conv2DTranspose\n",
    "import os\n",
    "from keras.preprocessing.image import load_img, ImageDataGenerator\n",
    "import PIL"
   ]
  },
  {
   "cell_type": "code",
   "execution_count": 5,
   "metadata": {},
   "outputs": [
    {
     "name": "stdout",
     "output_type": "stream",
     "text": [
      "/Users/saksham/Desktop/py/NN/datasets/CamSeq01\n"
     ]
    }
   ],
   "source": [
    "cd datasets/CamSeq01"
   ]
  },
  {
   "cell_type": "code",
   "execution_count": 6,
   "metadata": {},
   "outputs": [
    {
     "data": {
      "text/plain": [
       "'/Users/saksham/Desktop/py/NN/datasets/CamSeq01'"
      ]
     },
     "execution_count": 6,
     "metadata": {},
     "output_type": "execute_result"
    }
   ],
   "source": [
    "pwd"
   ]
  },
  {
   "cell_type": "code",
   "execution_count": 7,
   "metadata": {},
   "outputs": [],
   "source": [
    "file=open('label_colors.txt', 'r')"
   ]
  },
  {
   "cell_type": "code",
   "execution_count": 8,
   "metadata": {},
   "outputs": [],
   "source": [
    "def read_colors(file):\n",
    "    color={}\n",
    "    classes={}\n",
    "    color1={}\n",
    "    for line in file:\n",
    "        i,j=line.strip().split('\\t', maxsplit=1)\n",
    "        color[len(color)]=i\n",
    "        classes[len(classes)]=j\n",
    "\n",
    "    for i in range(len(color)):\n",
    "        color1[len(color1)]=tuple([int(i) for i in color[i].split(' ')])\n",
    "    return (color1, classes)"
   ]
  },
  {
   "cell_type": "code",
   "execution_count": null,
   "metadata": {},
   "outputs": [],
   "source": []
  },
  {
   "cell_type": "code",
   "execution_count": 9,
   "metadata": {},
   "outputs": [],
   "source": [
    "def to_onehot(img, color1):\n",
    "    img_new=np.zeros((img.shape[:2])+(len(color1),))\n",
    "    for i in range(len(color1)):\n",
    "        img_new[:,:,i]=np.all(img.reshape((-1,3))==(color1[i]), axis=1).reshape(img_new.shape[:2])\n",
    "    #print(img_new.shape)\n",
    "    return img_new"
   ]
  },
  {
   "cell_type": "code",
   "execution_count": null,
   "metadata": {},
   "outputs": [],
   "source": []
  },
  {
   "cell_type": "code",
   "execution_count": 10,
   "metadata": {},
   "outputs": [],
   "source": [
    "def augment_val2():\n",
    "\n",
    "    file=open('label_colors.txt', 'r')\n",
    "    color1, classes=read_colors(file)\n",
    "\n",
    "    data_gen=ImageDataGenerator(rescale=1.0/255)\n",
    "    mask_gen=ImageDataGenerator()\n",
    "\n",
    "    seed=1\n",
    "\n",
    "#    #create sample for fitting data\n",
    "#    img=os.listdir('../CamSeq01/data/val/img')\n",
    "#    data_sample=[np.asarray(load_img('../CamSeq01/data/val/img/'+i))/255.0 for j,i in zip(range(5), img)]\n",
    "#    #create sample for fitting mask\n",
    "#    img=os.listdir('../CamSeq01/mask/val/img')\n",
    "#    mask_sample=[np.asarray(load_img('../CamSeq01/mask/val/img/'+i))/255.0 for j,i in zip(range(5), img)]\n",
    "#    #fitting both mask and data\n",
    "#    data_gen.fit(data_sample, seed=seed)\n",
    "#    mask_gen.fit(mask_sample, seed=seed)\n",
    "\n",
    "    data_generator=data_gen.flow_from_directory('../CamSeq01/data/val',\n",
    "                                                target_size=(360, 480),\n",
    "                                                batch_size=16,\n",
    "                                                shuffle=False,\n",
    "                                                class_mode=None,\n",
    "                                                seed=seed)\n",
    "    mask_generator=mask_gen.flow_from_directory('../CamSeq01/mask/val',\n",
    "                                                target_size=(360, 480),\n",
    "                                                batch_size=16,\n",
    "                                                shuffle=False,\n",
    "                                                class_mode=None,\n",
    "                                                seed=seed)\n",
    "    #print(type(data_generator))\n",
    "\n",
    "    while(1):\n",
    "        data=data_generator.next()\n",
    "        y1=mask_generator.next()\n",
    "\n",
    "        #print(x1[1])\n",
    "\n",
    "        encoded_mask=[to_onehot(img, color1) for img in y1]\n",
    "        #print(x1.shape)\n",
    "        #    print(np.asarray(encoded_mask).shape)\n",
    "        #    print(x1.shape)\n",
    "        yield data, np.asarray(encoded_mask)"
   ]
  },
  {
   "cell_type": "code",
   "execution_count": 11,
   "metadata": {},
   "outputs": [],
   "source": [
    "def augment_train2():\n",
    "# import sys\n",
    "# np.set_printoptions(threshold=sys.maxsize)\n",
    "    file=open('label_colors.txt', 'r')\n",
    "    color1, classes=read_colors(file)\n",
    "\n",
    "    data_gen=ImageDataGenerator(rescale=1.0/255)\n",
    "    mask_gen=ImageDataGenerator()\n",
    "\n",
    "    seed=1\n",
    "\n",
    "    #    #create sample for fitting data\n",
    "    #    img=os.listdir('../CamSeq01/data/train/img')\n",
    "    #    data_sample=[np.asarray(load_img('../CamSeq01/data/train/img/'+i))/255.0 for j,i in zip(range(5), img)]\n",
    "    #    #create sample for fitting mask\n",
    "    #    img=os.listdir('../CamSeq01/mask/train/img')\n",
    "    #    mask_sample=[np.asarray(load_img('../CamSeq01/mask/train/img/'+i))/255.0 for j,i in zip(range(5), img)]\n",
    "    #    #fitting both mask and data\n",
    "    #    data_gen.fit(data_sample, seed=seed)\n",
    "    #    mask_gen.fit(mask_sample, seed=seed)\n",
    "\n",
    "    data_generator=data_gen.flow_from_directory('../CamSeq01/data/train',\n",
    "                                                target_size=(360, 480),\n",
    "                                                batch_size=16,\n",
    "                                                shuffle=False,\n",
    "                                                class_mode=None,\n",
    "                                                seed=seed)\n",
    "    mask_generator=mask_gen.flow_from_directory('../CamSeq01/mask/train',\n",
    "                                                target_size=(360, 480),\n",
    "                                                batch_size=16,\n",
    "                                                shuffle=False,\n",
    "                                                class_mode=None,\n",
    "                                                seed=seed)\n",
    "    #print(type(data_generator))\n",
    "\n",
    "    while(1):\n",
    "        data=data_generator.next()\n",
    "        y1=mask_generator.next()\n",
    "        #print(type(y1))\n",
    "        #print((y1))\n",
    "        #print(x1[1])\n",
    "\n",
    "        encoded_mask=[to_onehot(img, color1) for img in y1]\n",
    "        #print(x1.shape)\n",
    "        #    print(np.asarray(encoded_mask).shape)\n",
    "        #    print(x1.shape)\n",
    "        yield data, np.asarray(encoded_mask)\n",
    "#print(type(x1))\n",
    "#for i in range(5):\n",
    "#    plt.imshow(x1[i])\n",
    "#    plt.show()\n",
    "#plt.plot(x1[1])\n",
    "#print(encoded_mask[0])\n",
    "# for img in encoded_mask:\n",
    "#    print(img.shape)\n",
    "#    plt.imshow(img)\n",
    "#for img in encoded_mask:\n",
    " #   plt.imshow(img)"
   ]
  },
  {
   "cell_type": "code",
   "execution_count": 12,
   "metadata": {},
   "outputs": [],
   "source": [
    "def augment_train():\n",
    "\n",
    "    file=open('label_colors.txt', 'r')\n",
    "    color1, classes=read_colors(file)\n",
    "\n",
    "    data_gen=ImageDataGenerator(rotation_range=0.2,\n",
    "                                width_shift_range=0.2,\n",
    "                                height_shift_range=0.2,\n",
    "                                shear_range=0.2,\n",
    "                                rescale=1.0/255,\n",
    "                                zoom_range=0.2,\n",
    "                                horizontal_flip=True,\n",
    "                                vertical_flip=True)\n",
    "    mask_gen=ImageDataGenerator(rotation_range=0.2,\n",
    "                                width_shift_range=0.2,\n",
    "                                height_shift_range=0.2,\n",
    "                                shear_range=0.2,\n",
    "                                zoom_range=0.2,\n",
    "                                horizontal_flip=True,\n",
    "                                vertical_flip=True)\n",
    "\n",
    "    seed=1\n",
    "\n",
    "#    #create sample for fitting data\n",
    "#    img=os.listdir('../CamSeq01/data/train/img')\n",
    "#    data_sample=[np.asarray(load_img('../CamSeq01/data/train/img/'+i))/255.0 for j,i in zip(range(5), img)]\n",
    "#    #create sample for fitting mask\n",
    "#    img=os.listdir('../CamSeq01/mask/train/img')\n",
    "#    mask_sample=[np.asarray(load_img('../CamSeq01/mask/train/img/'+i))/255.0 for j,i in zip(range(5), img)]\n",
    "#    #fitting both mask and data\n",
    "#    data_gen.fit(data_sample, seed=seed)\n",
    "#    mask_gen.fit(mask_sample, seed=seed)\n",
    "\n",
    "    data_generator=data_gen.flow_from_directory('../CamSeq01/data/train',\n",
    "                                                target_size=(360, 480),\n",
    "                                                batch_size=16,\n",
    "                                                shuffle=False,\n",
    "                                                class_mode=None,\n",
    "                                                seed=seed)\n",
    "    mask_generator=mask_gen.flow_from_directory('../CamSeq01/mask/train',\n",
    "                                                target_size=(360, 480),\n",
    "                                                batch_size=16,\n",
    "                                                shuffle=False,\n",
    "                                                class_mode=None,\n",
    "                                                seed=seed)\n",
    "    #print(type(data_generator))\n",
    "\n",
    "    while(1):\n",
    "        data=data_generator.next()\n",
    "        y1=mask_generator.next()\n",
    "\n",
    "        #print(x1[1])\n",
    "\n",
    "        encoded_mask=[to_onehot(img, color1) for img in y1]\n",
    "        #print(x1.shape)\n",
    "        #    print(np.asarray(encoded_mask).shape)\n",
    "        #    print(x1.shape)\n",
    "        yield data, np.asarray(encoded_mask)\n",
    "        #print(type(x1))\n",
    "        #for i in range(5):\n",
    "        #    plt.imshow(x1[i])\n",
    "        #    plt.show()\n",
    "        #plt.plot(x1[1])\n",
    "        #for img in x1:\n",
    "         #   print(img.shape)\n",
    "          #  plt.imshow(img)\n",
    "        #for img in encoded_mask:\n",
    "         #   plt.imshow(img)"
   ]
  },
  {
   "cell_type": "code",
   "execution_count": 13,
   "metadata": {},
   "outputs": [],
   "source": [
    "def augment_val():\n",
    "\n",
    "    file=open('label_colors.txt', 'r')\n",
    "    color1, classes=read_colors(file)\n",
    "\n",
    "    data_gen=ImageDataGenerator(rescale=1.0/255)\n",
    "    mask_gen=ImageDataGenerator()\n",
    "\n",
    "    seed=1\n",
    "\n",
    "#    #create sample for fitting data\n",
    "#    img=os.listdir('../CamSeq01/data/val/img')\n",
    "#    data_sample=[np.asarray(load_img('../CamSeq01/data/val/img/'+i))/255.0 for j,i in zip(range(5), img)]\n",
    "#    #create sample for fitting mask\n",
    "#    img=os.listdir('../CamSeq01/mask/val/img')\n",
    "#    mask_sample=[np.asarray(load_img('../CamSeq01/mask/val/img/'+i))/255.0 for j,i in zip(range(5), img)]\n",
    "#    #fitting both mask and data\n",
    "#    data_gen.fit(data_sample, seed=seed)\n",
    "#    mask_gen.fit(mask_sample, seed=seed)\n",
    "\n",
    "    data_generator=data_gen.flow_from_directory('../CamSeq01/data/val',\n",
    "                                                target_size=(360, 480),\n",
    "                                                batch_size=16,\n",
    "                                                shuffle=False,\n",
    "                                                class_mode=None,\n",
    "                                                seed=seed)\n",
    "    mask_generator=mask_gen.flow_from_directory('../CamSeq01/mask/val',\n",
    "                                                target_size=(360, 480),\n",
    "                                                batch_size=16,\n",
    "                                                shuffle=False,\n",
    "                                                class_mode=None,\n",
    "                                                seed=seed)\n",
    "    #print(type(data_generator))\n",
    "\n",
    "    while(1):\n",
    "        data=data_generator.next()\n",
    "        y1=mask_generator.next()\n",
    "\n",
    "        #print(x1[1])\n",
    "\n",
    "        encoded_mask=[to_onehot(img, color1) for img in y1]\n",
    "        #print(x1.shape)\n",
    "        #    print(np.asarray(encoded_mask).shape)\n",
    "        #    print(x1.shape)\n",
    "        yield data, np.asarray(encoded_mask)"
   ]
  },
  {
   "cell_type": "code",
   "execution_count": 14,
   "metadata": {},
   "outputs": [],
   "source": [
    "def get_unet(input_image, n_filter = 8, dropout = 0.5, kernel_size=3):\n",
    "    # Contracting Path\n",
    "    #c1 = conv2d_block(n_filters * 1, kernel_size = 3, batchnorm = batchnorm)\n",
    "    c1 = Conv2D(n_filter*1, (kernel_size,kernel_size), padding='same', name='first_layer')(input_image)\n",
    "    c1 = BatchNormalization()(c1)\n",
    "    c1 = Activation('relu')(c1)\n",
    "    \n",
    "    c1 = Conv2D(n_filter*1, (kernel_size,kernel_size), padding='same', name='second_layer')(c1)\n",
    "    c1 = BatchNormalization()(c1)\n",
    "    c1 = Activation('relu')(c1)\n",
    "    \n",
    "    p1 = MaxPooling2D((2, 2))(c1)\n",
    "    p1 = Dropout(dropout)(p1)\n",
    "    \n",
    "    \n",
    "    #c2 = conv2d_block(p1, n_filters * 2, kernel_size = 3, batchnorm = batchnorm)\n",
    "    c2 = Conv2D(n_filter*2, (kernel_size,kernel_size), padding='same', name='third_layer')(p1)\n",
    "    c2 = BatchNormalization()(c2)\n",
    "    c2 = Activation('relu')(c2)\n",
    "    \n",
    "    c2 = Conv2D(n_filter*2, (kernel_size,kernel_size), padding='same', name='fourth_layer')(c2)\n",
    "    c2 = BatchNormalization()(c2)\n",
    "    c2 = Activation('relu')(c2)\n",
    "    \n",
    "    p2 = MaxPooling2D((2, 2))(c2)\n",
    "    p2 = Dropout(dropout)(p2)\n",
    "    \n",
    "    \n",
    "    #c3 = conv2d_block(p2, n_filters * 4, kernel_size = 3, batchnorm = batchnorm)\n",
    "    c3 = Conv2D(n_filter*4, (kernel_size,kernel_size), padding='same')(p2)\n",
    "    c3 = BatchNormalization()(c3)\n",
    "    c3 = Activation('relu')(c3)\n",
    "    \n",
    "    c3 = Conv2D(n_filter*4, (kernel_size,kernel_size), padding='same')(c3)\n",
    "    c3 = BatchNormalization()(c3)\n",
    "    c3 = Activation('relu')(c3)\n",
    "    \n",
    "    p3 = MaxPooling2D((2, 2))(c3)\n",
    "    p3 = Dropout(dropout)(p3)\n",
    "    \n",
    "    \n",
    "    #c4 = conv2d_block(p3, n_filters * 8, kernel_size = 3, batchnorm = batchnorm)\n",
    "#    c4 = Conv2D(n_filter*8, (kernel_size,kernel_size), padding='same')(p3)\n",
    "#    c4 = BatchNormalization()(c4)\n",
    "#    c4 = Activation('relu')(c4)\n",
    "#    \n",
    "#    c4 = Conv2D(n_filter*8, (kernel_size,kernel_size), padding='same')(c4)\n",
    "#    c4 = BatchNormalization()(c4)\n",
    "#    c4 = Activation('relu')(c4)\n",
    "#   \n",
    "#    p4 = MaxPooling2D((2, 2))(c4)\n",
    "#    p4 = Dropout(dropout)(p4)\n",
    "    \n",
    "    \n",
    "    #code section of autoencoder\n",
    "    #c5 = conv2d_block(p4, n_filters = n_filters * 16, kernel_size = 3, batchnorm = batchnorm)\n",
    "    c5 = Conv2D(n_filter*8, (kernel_size,kernel_size), padding='same', name='first_code_layer')(p3)\n",
    "    c5 = BatchNormalization()(c5)\n",
    "    c5 = Activation('relu')(c5)\n",
    "    \n",
    "    c5 = Conv2D(n_filter*8, (kernel_size,kernel_size), padding='same', name='second_code_layer')(c5)\n",
    "    c5 = BatchNormalization()(c5)\n",
    "    c5 = Activation('relu')(c5)\n",
    "    \n",
    "    \n",
    "    # Expansive Path\n",
    "    ## doubt: why is the stride (2,2) and (1,1)\n",
    "#    u6 = Conv2DTranspose(n_filter * 8, (3, 3), strides = (2, 2), padding = 'same')(c5)\n",
    "#    u6 = Concatenate()([u6, c4])\n",
    "#    u6 = Dropout(dropout)(u6)\n",
    "#    ##c6 = conv2d_block(u6, n_filters * 8, kernel_size = 3, batchnorm = batchnorm)\n",
    "#    c6 = Conv2D(n_filter*8, (kernel_size,kernel_size), padding='same')(u6)\n",
    "#    c6 = BatchNormalization()(c6)\n",
    "#    c6 = Activation('relu')(c6)\n",
    "#    \n",
    "#    c6 = Conv2D(n_filter*8, (kernel_size,kernel_size), padding='same')(c6)\n",
    "#    c6 = BatchNormalization()(c6)\n",
    "#    c6 = Activation('relu')(c6)\n",
    "   \n",
    "    \n",
    "    u7 = Conv2DTranspose(n_filter * 4, (3, 3), strides = (2, 2), padding = 'same')(c5)\n",
    "    u7 = Concatenate()([u7, c3])\n",
    "    u7 = Dropout(dropout)(u7)\n",
    "    ##c7 = conv2d_block(u7, n_filters * 4, kernel_size = 3, batchnorm = batchnorm)\n",
    "    c7 = Conv2D(n_filter*4, (kernel_size,kernel_size), padding='same')(u7)\n",
    "    c7 = BatchNormalization()(c7)\n",
    "    c7 = Activation('relu')(c7)\n",
    "    \n",
    "    c7 = Conv2D(n_filter*4, (kernel_size,kernel_size), padding='same')(c7)\n",
    "    c7 = BatchNormalization()(c7)\n",
    "    c7 = Activation('relu')(c7)\n",
    "    \n",
    "    \n",
    "    u8 = Conv2DTranspose(n_filter * 2, (3, 3), strides = (2, 2), padding = 'same')(c7)\n",
    "    u8 = Concatenate()([u8, c2])\n",
    "    u8 = Dropout(dropout)(u8)\n",
    "    ##c8 = conv2d_block(u8, n_filters * 2, kernel_size = 3, batchnorm = batchnorm)\n",
    "    c8 = Conv2D(n_filter*2, (kernel_size,kernel_size), padding='same', name='1st_ex_layer')(u8)\n",
    "    c8 = BatchNormalization()(c8)\n",
    "    c8 = Activation('relu')(c8)\n",
    "    \n",
    "    c8 = Conv2D(n_filter*2, (kernel_size,kernel_size), padding='same', name='2nd_ex_layer')(c8)\n",
    "    c8 = BatchNormalization()(c8)\n",
    "    c8 = Activation('relu')(c8)\n",
    "    \n",
    "    \n",
    "    u9 = Conv2DTranspose(n_filter * 1, (3, 3), strides = (2, 2), padding = 'same')(c8)\n",
    "    u9 = Concatenate()([u9, c1])\n",
    "    u9 = Dropout(dropout)(u9)\n",
    "    ##c9 = conv2d_block(u9, n_filters * 1, kernel_size = 3, batchnorm = batchnorm)\n",
    "    c9 = Conv2D(n_filter*1, (kernel_size,kernel_size), padding='same', name='3rd_ex_layer')(u9)\n",
    "    c9 = BatchNormalization()(c9)\n",
    "    c9 = Activation('relu')(c9)\n",
    "    \n",
    "    c9 = Conv2D(n_filter*1, (kernel_size,kernel_size), padding='same', name='4th_ex_layer')(c9)\n",
    "    c9 = BatchNormalization()(c9)\n",
    "    c9 = Activation('relu')(c9)\n",
    "    \n",
    "    \n",
    "    # basically we want a sigmoid activation layer with depth of 1\n",
    "    outputs = Conv2D(32, (1, 1), activation='softmax', padding='same', name='output_layer')(c9)\n",
    "    \n",
    "    model = Model(inputs=[input_image], outputs=[outputs])\n",
    "    return model"
   ]
  },
  {
   "cell_type": "code",
   "execution_count": 10,
   "metadata": {},
   "outputs": [],
   "source": [
    "img=Input((None, None, 3))\n",
    "model=get_unet(img)"
   ]
  },
  {
   "cell_type": "raw",
   "metadata": {},
   "source": [
    "model.summary()"
   ]
  },
  {
   "cell_type": "code",
   "execution_count": 11,
   "metadata": {},
   "outputs": [],
   "source": [
    "model.compile(optimizer='Adam', loss='categorical_crossentropy', metrics=['accuracy'])"
   ]
  },
  {
   "cell_type": "code",
   "execution_count": 12,
   "metadata": {},
   "outputs": [
    {
     "name": "stdout",
     "output_type": "stream",
     "text": [
      "Epoch 1/20\n",
      "Found 30 images belonging to 1 classes.\n",
      "Found 71 images belonging to 1 classes.\n",
      "Found 30 images belonging to 1 classes.\n",
      "Found 71 images belonging to 1 classes.\n",
      "20/20 [==============================] - 910s 46s/step - loss: 3.3411 - acc: 0.0419 - val_loss: 3.1398 - val_acc: 0.1911\n",
      "Epoch 2/20\n",
      "20/20 [==============================] - 762s 38s/step - loss: 3.0202 - acc: 0.1695 - val_loss: 3.8137 - val_acc: 0.1552\n",
      "Epoch 3/20\n",
      "20/20 [==============================] - 754s 38s/step - loss: 2.7682 - acc: 0.2676 - val_loss: 4.4994 - val_acc: 0.1463\n",
      "Epoch 4/20\n",
      "20/20 [==============================] - 755s 38s/step - loss: 2.5991 - acc: 0.2988 - val_loss: 2.4988 - val_acc: 0.2300\n",
      "Epoch 5/20\n",
      "20/20 [==============================] - 782s 39s/step - loss: 2.4465 - acc: 0.3112 - val_loss: 2.5149 - val_acc: 0.1979\n",
      "Epoch 6/20\n",
      "20/20 [==============================] - 753s 38s/step - loss: 2.3199 - acc: 0.3012 - val_loss: 2.3246 - val_acc: 0.2219\n",
      "Epoch 7/20\n",
      "20/20 [==============================] - 784s 39s/step - loss: 2.2076 - acc: 0.3327 - val_loss: 2.1510 - val_acc: 0.2241\n",
      "Epoch 8/20\n",
      "20/20 [==============================] - 748s 37s/step - loss: 2.0730 - acc: 0.4204 - val_loss: 2.2970 - val_acc: 0.2242\n",
      "Epoch 9/20\n",
      "20/20 [==============================] - 765s 38s/step - loss: 1.9443 - acc: 0.5121 - val_loss: 2.1481 - val_acc: 0.5806\n",
      "Epoch 10/20\n",
      "20/20 [==============================] - 732s 37s/step - loss: 1.8267 - acc: 0.6486 - val_loss: 1.9253 - val_acc: 0.6199\n",
      "Epoch 11/20\n",
      "20/20 [==============================] - 742s 37s/step - loss: 1.7089 - acc: 0.6829 - val_loss: 2.2123 - val_acc: 0.4903\n",
      "Epoch 12/20\n",
      "20/20 [==============================] - 740s 37s/step - loss: 1.6218 - acc: 0.6816 - val_loss: 2.0953 - val_acc: 0.5135\n",
      "Epoch 13/20\n",
      "20/20 [==============================] - 760s 38s/step - loss: 1.5037 - acc: 0.6924 - val_loss: 2.2988 - val_acc: 0.3940\n",
      "Epoch 14/20\n",
      "20/20 [==============================] - 748s 37s/step - loss: 1.4064 - acc: 0.7043 - val_loss: 1.9655 - val_acc: 0.4938\n",
      "Epoch 15/20\n",
      "20/20 [==============================] - 748s 37s/step - loss: 1.2967 - acc: 0.7165 - val_loss: 2.1623 - val_acc: 0.4522\n",
      "Epoch 16/20\n",
      "20/20 [==============================] - 745s 37s/step - loss: 1.2214 - acc: 0.7226 - val_loss: 2.0904 - val_acc: 0.3895\n",
      "Epoch 17/20\n",
      "20/20 [==============================] - 766s 38s/step - loss: 1.1285 - acc: 0.7345 - val_loss: 2.1370 - val_acc: 0.3707\n",
      "Epoch 18/20\n",
      "20/20 [==============================] - 738s 37s/step - loss: 1.0767 - acc: 0.7350 - val_loss: 1.8935 - val_acc: 0.4485\n",
      "Epoch 19/20\n",
      "20/20 [==============================] - 737s 37s/step - loss: 0.9909 - acc: 0.7489 - val_loss: 1.7136 - val_acc: 0.5553\n",
      "Epoch 20/20\n",
      "20/20 [==============================] - 746s 37s/step - loss: 0.9498 - acc: 0.7522 - val_loss: 1.6697 - val_acc: 0.5257\n"
     ]
    }
   ],
   "source": [
    "history=model.fit_generator(generator=augment_train(), steps_per_epoch=20, epochs=20, verbose=1, validation_data=augment_val(), validation_steps=15)"
   ]
  },
  {
   "cell_type": "code",
   "execution_count": 13,
   "metadata": {},
   "outputs": [],
   "source": [
    "model.save('multi-class_sem2')"
   ]
  },
  {
   "cell_type": "code",
   "execution_count": 15,
   "metadata": {},
   "outputs": [
    {
     "data": {
      "text/plain": [
       "[<matplotlib.lines.Line2D at 0x22700086b00>]"
      ]
     },
     "execution_count": 15,
     "metadata": {},
     "output_type": "execute_result"
    },
    {
     "data": {
      "image/png": "[encoded data removed]",
      "text/plain": [
       "<Figure size 432x288 with 1 Axes>"
      ]
     },
     "metadata": {
      "needs_background": "light"
     },
     "output_type": "display_data"
    }
   ],
   "source": [
    "plt.plot(history.history['acc'])"
   ]
  },
  {
   "cell_type": "code",
   "execution_count": 16,
   "metadata": {},
   "outputs": [
    {
     "data": {
      "text/plain": [
       "[<matplotlib.lines.Line2D at 0x227000ebe48>]"
      ]
     },
     "execution_count": 16,
     "metadata": {},
     "output_type": "execute_result"
    },
    {
     "data": {
      "image/png": "[encoded data removed]",
      "text/plain": [
       "<Figure size 432x288 with 1 Axes>"
      ]
     },
     "metadata": {
      "needs_background": "light"
     },
     "output_type": "display_data"
    }
   ],
   "source": [
    "plt.plot(history.history['loss'])"
   ]
  },
  {
   "cell_type": "code",
   "execution_count": 17,
   "metadata": {},
   "outputs": [
    {
     "data": {
      "text/plain": [
       "[<matplotlib.lines.Line2D at 0x22700144ef0>]"
      ]
     },
     "execution_count": 17,
     "metadata": {},
     "output_type": "execute_result"
    },
    {
     "data": {
      "image/png": "[encoded data removed]",
      "text/plain": [
       "<Figure size 432x288 with 1 Axes>"
      ]
     },
     "metadata": {
      "needs_background": "light"
     },
     "output_type": "display_data"
    }
   ],
   "source": [
    "plt.plot(history.history['val_acc'])"
   ]
  },
  {
   "cell_type": "code",
   "execution_count": 18,
   "metadata": {},
   "outputs": [
    {
     "data": {
      "text/plain": [
       "[<matplotlib.lines.Line2D at 0x227001a0fd0>]"
      ]
     },
     "execution_count": 18,
     "metadata": {},
     "output_type": "execute_result"
    },
    {
     "data": {
      "image/png": "[encoded data removed]",
      "text/plain": [
       "<Figure size 432x288 with 1 Axes>"
      ]
     },
     "metadata": {
      "needs_background": "light"
     },
     "output_type": "display_data"
    }
   ],
   "source": [
    "plt.plot(history.history['val_loss'])"
   ]
  },
  {
   "cell_type": "code",
   "execution_count": 19,
   "metadata": {},
   "outputs": [],
   "source": [
    "def to_rgb(img):\n",
    "    file=open('label_colors.txt', 'r')\n",
    "    color1, classes=read_colors(file)\n",
    "    single_layer = np.argmax(img, axis=-1).reshape(-1,1)\n",
    "    output = np.zeros( img.shape[:2]+(3,) ).reshape((-1,3))\n",
    "    for i in range(len(color1)):\n",
    "        output=np.where(single_layer==i, color1[i],output)\n",
    "    return output.reshape(img.shape[:2]+(3,))"
   ]
  },
  {
   "cell_type": "code",
   "execution_count": 47,
   "metadata": {},
   "outputs": [
    {
     "name": "stdout",
     "output_type": "stream",
     "text": [
      "[[[128 128 128]\n",
      "  [128   0   0]\n",
      "  [128   0   0]\n",
      "  ...\n",
      "  [128   0   0]\n",
      "  [128   0   0]\n",
      "  [128   0   0]]\n",
      "\n",
      " [[128   0   0]\n",
      "  [128   0   0]\n",
      "  [128   0   0]\n",
      "  ...\n",
      "  [128   0   0]\n",
      "  [128   0   0]\n",
      "  [128   0   0]]\n",
      "\n",
      " [[128   0   0]\n",
      "  [128   0   0]\n",
      "  [128 128 128]\n",
      "  ...\n",
      "  [128 128   0]\n",
      "  [128 128 128]\n",
      "  [128 128 128]]\n",
      "\n",
      " ...\n",
      "\n",
      " [[128   0   0]\n",
      "  [128 128 128]\n",
      "  [128 128 128]\n",
      "  ...\n",
      "  [128 128 128]\n",
      "  [128   0   0]\n",
      "  [128 128 128]]\n",
      "\n",
      " [[128   0   0]\n",
      "  [128 128 128]\n",
      "  [128 128 128]\n",
      "  ...\n",
      "  [128 128 128]\n",
      "  [128 128 128]\n",
      "  [128   0   0]]\n",
      "\n",
      " [[128 128 128]\n",
      "  [128 128 128]\n",
      "  [128 128 128]\n",
      "  ...\n",
      "  [128 128 128]\n",
      "  [128 128 128]\n",
      "  [128   0   0]]]\n"
     ]
    },
    {
     "data": {
      "image/png": "[encoded data removed]",
      "text/plain": [
       "<Figure size 432x288 with 1 Axes>"
      ]
     },
     "metadata": {
      "needs_background": "light"
     },
     "output_type": "display_data"
    }
   ],
   "source": [
    "#to load multiple images from a directory(in this case, the training dataset)\n",
    "#arr=[]\n",
    "#for i,img in zip(range(5), os.listdir('../CamSeq01/data/train/img')):\n",
    "    #arr.append(np.asarray(load_img('../CamSeq01/data/train/img/'+img)))\n",
    "#arr=np.asarray(arr)\n",
    "\n",
    "arr=np.asarray(load_img('../CamSeq01/data/train/img/0016E5_08019.png'))\n",
    "arr=arr.reshape((1, )+arr.shape[:3])\n",
    "img=model.predict(arr)\n",
    "\n",
    "for i in img:\n",
    "    j=to_rgb(i)\n",
    "    j=j.astype(int)\n",
    "    print(j)\n",
    "    plt.imshow(j)\n",
    "    plt.show()"
   ]
  },
  {
   "cell_type": "code",
   "execution_count": 23,
   "metadata": {},
   "outputs": [
    {
     "data": {
      "text/plain": [
       "'C:\\\\Users\\\\Ansh Singal\\\\Desktop\\\\study\\\\py\\\\NN\\\\datasets\\\\CamSeq01'"
      ]
     },
     "execution_count": 23,
     "metadata": {},
     "output_type": "execute_result"
    }
   ],
   "source": [
    "pwd"
   ]
  },
  {
   "cell_type": "code",
   "execution_count": 10,
   "metadata": {},
   "outputs": [],
   "source": [
    "img=Input((None, None, 3))\n",
    "model2=get_unet(img)"
   ]
  },
  {
   "cell_type": "code",
   "execution_count": 11,
   "metadata": {},
   "outputs": [],
   "source": [
    "model2.compile(optimizer='Adam', loss='categorical_crossentropy', metrics=['accuracy'])"
   ]
  },
  {
   "cell_type": "code",
   "execution_count": 12,
   "metadata": {},
   "outputs": [
    {
     "name": "stdout",
     "output_type": "stream",
     "text": [
      "Epoch 1/30\n",
      "Found 30 images belonging to 1 classes.\n",
      "Found 71 images belonging to 1 classes.\n",
      "Found 30 images belonging to 1 classes.\n",
      "Found 71 images belonging to 1 classes.\n",
      "25/25 [==============================] - 1008s 40s/step - loss: 3.0668 - acc: 0.1598 - val_loss: 2.8475 - val_acc: 0.2720\n",
      "Epoch 2/30\n",
      "25/25 [==============================] - 942s 38s/step - loss: 2.7186 - acc: 0.3539 - val_loss: 2.8189 - val_acc: 0.2962\n",
      "Epoch 3/30\n",
      "25/25 [==============================] - 980s 39s/step - loss: 2.4903 - acc: 0.3770 - val_loss: 2.9158 - val_acc: 0.3433\n",
      "Epoch 4/30\n",
      "25/25 [==============================] - 953s 38s/step - loss: 2.3072 - acc: 0.3580 - val_loss: 2.5235 - val_acc: 0.3427\n",
      "Epoch 5/30\n",
      "25/25 [==============================] - 1009s 40s/step - loss: 2.1528 - acc: 0.3656 - val_loss: 2.3633 - val_acc: 0.3457\n",
      "Epoch 6/30\n",
      "25/25 [==============================] - 946s 38s/step - loss: 2.0156 - acc: 0.5244 - val_loss: 2.3869 - val_acc: 0.3405\n",
      "Epoch 7/30\n",
      "25/25 [==============================] - 947s 38s/step - loss: 1.8978 - acc: 0.5382 - val_loss: 2.3386 - val_acc: 0.3325\n",
      "Epoch 8/30\n",
      "25/25 [==============================] - 921s 37s/step - loss: 1.8022 - acc: 0.5380 - val_loss: 2.2351 - val_acc: 0.3311\n",
      "Epoch 9/30\n",
      "25/25 [==============================] - 894s 36s/step - loss: 1.7123 - acc: 0.5243 - val_loss: 2.2484 - val_acc: 0.2954\n",
      "Epoch 10/30\n",
      "25/25 [==============================] - 940s 38s/step - loss: 1.6317 - acc: 0.5272 - val_loss: 2.1673 - val_acc: 0.3380\n",
      "Epoch 11/30\n",
      "25/25 [==============================] - 936s 37s/step - loss: 1.5255 - acc: 0.5459 - val_loss: 2.3266 - val_acc: 0.2786\n",
      "Epoch 12/30\n",
      "25/25 [==============================] - 930s 37s/step - loss: 1.4399 - acc: 0.5854 - val_loss: 2.4211 - val_acc: 0.2645\n",
      "Epoch 13/30\n",
      "25/25 [==============================] - 984s 39s/step - loss: 1.3558 - acc: 0.6168 - val_loss: 2.4957 - val_acc: 0.2615\n",
      "Epoch 14/30\n",
      "25/25 [==============================] - 1185s 47s/step - loss: 1.2253 - acc: 0.6748 - val_loss: 2.3182 - val_acc: 0.3301\n",
      "Epoch 15/30\n",
      "25/25 [==============================] - 1472s 59s/step - loss: 1.1271 - acc: 0.7073 - val_loss: 2.1198 - val_acc: 0.3900\n",
      "Epoch 16/30\n",
      "25/25 [==============================] - 1456s 58s/step - loss: 1.0275 - acc: 0.7269 - val_loss: 2.3589 - val_acc: 0.4132\n",
      "Epoch 17/30\n",
      "25/25 [==============================] - 1121s 45s/step - loss: 0.9262 - acc: 0.7439 - val_loss: 2.4680 - val_acc: 0.4162\n",
      "Epoch 18/30\n",
      "25/25 [==============================] - 1149s 46s/step - loss: 0.8605 - acc: 0.7535 - val_loss: 2.4831 - val_acc: 0.4526\n",
      "Epoch 19/30\n",
      "25/25 [==============================] - 1048s 42s/step - loss: 0.8017 - acc: 0.7655 - val_loss: 2.6338 - val_acc: 0.4878\n",
      "Epoch 20/30\n",
      "25/25 [==============================] - 1098s 44s/step - loss: 0.7977 - acc: 0.7613 - val_loss: 3.3586 - val_acc: 0.4560\n",
      "Epoch 21/30\n",
      "25/25 [==============================] - 981s 39s/step - loss: 0.7555 - acc: 0.7746 - val_loss: 1.7802 - val_acc: 0.5600\n",
      "Epoch 22/30\n",
      "25/25 [==============================] - 911s 36s/step - loss: 0.7300 - acc: 0.7801 - val_loss: 2.0159 - val_acc: 0.5078\n",
      "Epoch 23/30\n",
      "25/25 [==============================] - 932s 37s/step - loss: 0.6992 - acc: 0.7859 - val_loss: 2.1395 - val_acc: 0.4943\n",
      "Epoch 24/30\n",
      "25/25 [==============================] - 902s 36s/step - loss: 0.6702 - acc: 0.7944 - val_loss: 1.7907 - val_acc: 0.5369\n",
      "Epoch 25/30\n",
      "25/25 [==============================] - 907s 36s/step - loss: 0.6416 - acc: 0.8025 - val_loss: 2.2332 - val_acc: 0.5006\n",
      "Epoch 26/30\n",
      "25/25 [==============================] - 886s 35s/step - loss: 0.6445 - acc: 0.7987 - val_loss: 1.5972 - val_acc: 0.5807\n",
      "Epoch 27/30\n",
      "25/25 [==============================] - 928s 37s/step - loss: 0.6212 - acc: 0.8025 - val_loss: 1.1901 - val_acc: 0.6709\n",
      "Epoch 28/30\n",
      "25/25 [==============================] - 879s 35s/step - loss: 0.5841 - acc: 0.8133 - val_loss: 1.6120 - val_acc: 0.5769\n",
      "Epoch 29/30\n",
      "25/25 [==============================] - 917s 37s/step - loss: 0.5942 - acc: 0.8074 - val_loss: 1.9163 - val_acc: 0.5499\n",
      "Epoch 30/30\n",
      "25/25 [==============================] - 908s 36s/step - loss: 0.5724 - acc: 0.8097 - val_loss: 1.4140 - val_acc: 0.6486\n"
     ]
    }
   ],
   "source": [
    "history=model2.fit_generator(generator=augment_train(), steps_per_epoch=25, epochs=30, verbose=1, validation_data=augment_val(), validation_steps=15)"
   ]
  },
  {
   "cell_type": "code",
   "execution_count": 13,
   "metadata": {},
   "outputs": [],
   "source": [
    "model2.save(\"multi-class_sem3\")"
   ]
  },
  {
   "cell_type": "code",
   "execution_count": 14,
   "metadata": {},
   "outputs": [
    {
     "data": {
      "text/plain": [
       "[<matplotlib.lines.Line2D at 0x1cb57dc4278>]"
      ]
     },
     "execution_count": 14,
     "metadata": {},
     "output_type": "execute_result"
    },
    {
     "data": {
      "image/png": "[encoded data removed]",
      "text/plain": [
       "<Figure size 432x288 with 1 Axes>"
      ]
     },
     "metadata": {
      "needs_background": "light"
     },
     "output_type": "display_data"
    }
   ],
   "source": [
    "plt.plot(history.history['acc'])"
   ]
  },
  {
   "cell_type": "code",
   "execution_count": 15,
   "metadata": {},
   "outputs": [
    {
     "data": {
      "text/plain": [
       "[<matplotlib.lines.Line2D at 0x1ca987b6400>]"
      ]
     },
     "execution_count": 15,
     "metadata": {},
     "output_type": "execute_result"
    },
    {
     "data": {
      "image/png": "[encoded data removed]",
      "text/plain": [
       "<Figure size 432x288 with 1 Axes>"
      ]
     },
     "metadata": {
      "needs_background": "light"
     },
     "output_type": "display_data"
    }
   ],
   "source": [
    "plt.plot(history.history['loss'])"
   ]
  },
  {
   "cell_type": "code",
   "execution_count": 16,
   "metadata": {},
   "outputs": [
    {
     "data": {
      "text/plain": [
       "[<matplotlib.lines.Line2D at 0x1ca98810dd8>]"
      ]
     },
     "execution_count": 16,
     "metadata": {},
     "output_type": "execute_result"
    },
    {
     "data": {
      "image/png": "[encoded data removed]",
      "text/plain": [
       "<Figure size 432x288 with 1 Axes>"
      ]
     },
     "metadata": {
      "needs_background": "light"
     },
     "output_type": "display_data"
    }
   ],
   "source": [
    "plt.plot(history.history['val_acc'])"
   ]
  },
  {
   "cell_type": "code",
   "execution_count": 17,
   "metadata": {},
   "outputs": [
    {
     "data": {
      "text/plain": [
       "[<matplotlib.lines.Line2D at 0x1ca9886b4a8>]"
      ]
     },
     "execution_count": 17,
     "metadata": {},
     "output_type": "execute_result"
    },
    {
     "data": {
      "image/png": "[encoded data removed]",
      "text/plain": [
       "<Figure size 432x288 with 1 Axes>"
      ]
     },
     "metadata": {
      "needs_background": "light"
     },
     "output_type": "display_data"
    }
   ],
   "source": [
    "plt.plot(history.history['val_loss'])"
   ]
  },
  {
   "cell_type": "code",
   "execution_count": 20,
   "metadata": {},
   "outputs": [
    {
     "name": "stdout",
     "output_type": "stream",
     "text": [
      "[[[128 128 128]\n",
      "  [128 128 128]\n",
      "  [128 128 128]\n",
      "  ...\n",
      "  [128 128 128]\n",
      "  [128 128 128]\n",
      "  [128 128 128]]\n",
      "\n",
      " [[128 128 128]\n",
      "  [128 128 128]\n",
      "  [128 128 128]\n",
      "  ...\n",
      "  [128 128   0]\n",
      "  [128 128   0]\n",
      "  [128 128   0]]\n",
      "\n",
      " [[128 128 128]\n",
      "  [128 128 128]\n",
      "  [128 128 128]\n",
      "  ...\n",
      "  [128 128   0]\n",
      "  [128 128   0]\n",
      "  [128 128   0]]\n",
      "\n",
      " ...\n",
      "\n",
      " [[128 128 128]\n",
      "  [128 128 128]\n",
      "  [128 128 128]\n",
      "  ...\n",
      "  [128  64 128]\n",
      "  [128  64 128]\n",
      "  [128 128 128]]\n",
      "\n",
      " [[128 128 128]\n",
      "  [128 128 128]\n",
      "  [128 128 128]\n",
      "  ...\n",
      "  [128 128 128]\n",
      "  [128 128 128]\n",
      "  [128 128 128]]\n",
      "\n",
      " [[128 128 128]\n",
      "  [128 128 128]\n",
      "  [128 128 128]\n",
      "  ...\n",
      "  [128 128 128]\n",
      "  [128 128 128]\n",
      "  [128 128 128]]]\n"
     ]
    },
    {
     "data": {
      "image/png": "[encoded data removed]",
      "text/plain": [
       "<Figure size 432x288 with 1 Axes>"
      ]
     },
     "metadata": {
      "needs_background": "light"
     },
     "output_type": "display_data"
    }
   ],
   "source": [
    "arr=np.asarray(load_img('../CamSeq01/data/train/img/0016E5_08019.png'))\n",
    "arr=arr.reshape((1, )+arr.shape[:3])\n",
    "img=model2.predict(arr)\n",
    "\n",
    "for i in img:\n",
    "    j=to_rgb(i)\n",
    "    j=j.astype(int)\n",
    "    print(j)\n",
    "    plt.imshow(j)\n",
    "    plt.show()"
   ]
  },
  {
   "cell_type": "code",
   "execution_count": 15,
   "metadata": {},
   "outputs": [],
   "source": [
    "img=Input((None, None, 3))\n",
    "model3=get_unet(img)"
   ]
  },
  {
   "cell_type": "code",
   "execution_count": 16,
   "metadata": {},
   "outputs": [],
   "source": [
    "model3.compile(optimizer='Adam', loss='categorical_crossentropy', metrics=['accuracy'])"
   ]
  },
  {
   "cell_type": "code",
   "execution_count": 17,
   "metadata": {},
   "outputs": [
    {
     "name": "stdout",
     "output_type": "stream",
     "text": [
      "Epoch 1/30\n",
      "Found 20 images belonging to 1 classes.\n",
      "Found 81 images belonging to 1 classes.\n",
      "Found 20 images belonging to 1 classes.\n",
      "Found 81 images belonging to 1 classes.\n",
      "25/25 [==============================] - 1972s 79s/step - loss: 3.3555 - accuracy: 0.0947 - val_loss: 3.3830 - val_accuracy: 0.2619\n",
      "Epoch 2/30\n",
      "25/25 [==============================] - 2933s 117s/step - loss: 2.9940 - accuracy: 0.2421 - val_loss: 3.2458 - val_accuracy: 0.3607\n",
      "Epoch 3/30\n",
      "25/25 [==============================] - 2169s 87s/step - loss: 2.6846 - accuracy: 0.6312 - val_loss: 3.0720 - val_accuracy: 0.3847\n",
      "Epoch 4/30\n",
      "25/25 [==============================] - 1814s 73s/step - loss: 2.4198 - accuracy: 0.7181 - val_loss: 2.8738 - val_accuracy: 0.4075\n",
      "Epoch 5/30\n",
      "25/25 [==============================] - 1832s 73s/step - loss: 2.1895 - accuracy: 0.7365 - val_loss: 2.6809 - val_accuracy: 0.3749\n",
      "Epoch 6/30\n",
      "25/25 [==============================] - 1767s 71s/step - loss: 1.9704 - accuracy: 0.7551 - val_loss: 2.5572 - val_accuracy: 0.3704\n",
      "Epoch 7/30\n",
      "25/25 [==============================] - 1814s 73s/step - loss: 1.7690 - accuracy: 0.7761 - val_loss: 2.6097 - val_accuracy: 0.3136\n",
      "Epoch 8/30\n",
      "25/25 [==============================] - 1783s 71s/step - loss: 1.5792 - accuracy: 0.7872 - val_loss: 2.5731 - val_accuracy: 0.2440\n",
      "Epoch 9/30\n",
      "25/25 [==============================] - 1802s 72s/step - loss: 1.4102 - accuracy: 0.7926 - val_loss: 2.4124 - val_accuracy: 0.3141\n",
      "Epoch 10/30\n",
      "25/25 [==============================] - 1790s 72s/step - loss: 1.2628 - accuracy: 0.7981 - val_loss: 2.2096 - val_accuracy: 0.3587\n",
      "Epoch 11/30\n",
      "25/25 [==============================] - 9629s 385s/step - loss: 1.1342 - accuracy: 0.8035 - val_loss: 2.4291 - val_accuracy: 0.2799\n",
      "Epoch 12/30\n",
      "25/25 [==============================] - 1719s 69s/step - loss: 1.0393 - accuracy: 0.8040 - val_loss: 2.0981 - val_accuracy: 0.3674\n",
      "Epoch 13/30\n",
      "25/25 [==============================] - 23642s 946s/step - loss: 0.9506 - accuracy: 0.8108 - val_loss: 2.6647 - val_accuracy: 0.1874\n",
      "Epoch 14/30\n",
      "25/25 [==============================] - 1950s 78s/step - loss: 0.8851 - accuracy: 0.8132 - val_loss: 2.6412 - val_accuracy: 0.1914\n",
      "Epoch 15/30\n",
      "25/25 [==============================] - 1817s 73s/step - loss: 0.8267 - accuracy: 0.8171 - val_loss: 2.1459 - val_accuracy: 0.3786\n",
      "Epoch 16/30\n",
      "25/25 [==============================] - 1774s 71s/step - loss: 0.7736 - accuracy: 0.8246 - val_loss: 2.0561 - val_accuracy: 0.4174\n",
      "Epoch 17/30\n",
      "25/25 [==============================] - 1809s 72s/step - loss: 0.7247 - accuracy: 0.8363 - val_loss: 1.9160 - val_accuracy: 0.4551\n",
      "Epoch 18/30\n",
      "25/25 [==============================] - 1718s 69s/step - loss: 0.6961 - accuracy: 0.8471 - val_loss: 1.8177 - val_accuracy: 0.5219\n",
      "Epoch 19/30\n",
      "25/25 [==============================] - 4870s 195s/step - loss: 0.7344 - accuracy: 0.8315 - val_loss: 2.2230 - val_accuracy: 0.3271\n",
      "Epoch 20/30\n",
      "25/25 [==============================] - 1807s 72s/step - loss: 0.6518 - accuracy: 0.8565 - val_loss: 1.7475 - val_accuracy: 0.5305\n",
      "Epoch 21/30\n",
      "25/25 [==============================] - 2433s 97s/step - loss: 0.6079 - accuracy: 0.8652 - val_loss: 1.7984 - val_accuracy: 0.5075\n",
      "Epoch 22/30\n",
      "25/25 [==============================] - 1733s 69s/step - loss: 0.5787 - accuracy: 0.8729 - val_loss: 1.7656 - val_accuracy: 0.5494\n",
      "Epoch 23/30\n",
      "25/25 [==============================] - 1744s 70s/step - loss: 0.5483 - accuracy: 0.8831 - val_loss: 1.7066 - val_accuracy: 0.5499\n",
      "Epoch 24/30\n",
      "25/25 [==============================] - 1658s 66s/step - loss: 0.5301 - accuracy: 0.8838 - val_loss: 1.5107 - val_accuracy: 0.6233\n",
      "Epoch 25/30\n",
      "25/25 [==============================] - 1732s 69s/step - loss: 0.5137 - accuracy: 0.8863 - val_loss: 1.3390 - val_accuracy: 0.6567\n",
      "Epoch 26/30\n",
      "25/25 [==============================] - 1714s 69s/step - loss: 0.5014 - accuracy: 0.8864 - val_loss: 1.0043 - val_accuracy: 0.7473\n",
      "Epoch 27/30\n",
      "25/25 [==============================] - 1738s 70s/step - loss: 0.4829 - accuracy: 0.8887 - val_loss: 1.1221 - val_accuracy: 0.7230\n",
      "Epoch 28/30\n",
      "25/25 [==============================] - 1759s 70s/step - loss: 0.4686 - accuracy: 0.8895 - val_loss: 1.4592 - val_accuracy: 0.6659\n",
      "Epoch 29/30\n",
      "25/25 [==============================] - 1770s 71s/step - loss: 0.4591 - accuracy: 0.8901 - val_loss: 0.9832 - val_accuracy: 0.7576\n",
      "Epoch 30/30\n",
      "25/25 [==============================] - 1692s 68s/step - loss: 0.4441 - accuracy: 0.8902 - val_loss: 1.0002 - val_accuracy: 0.7667\n"
     ]
    }
   ],
   "source": [
    "history=model3.fit_generator(generator=augment_train2(), steps_per_epoch=25, epochs=30, verbose=1, validation_data=augment_val2(), validation_steps=15)"
   ]
  },
  {
   "cell_type": "code",
   "execution_count": 18,
   "metadata": {},
   "outputs": [],
   "source": [
    "model3.save('model3')"
   ]
  },
  {
   "cell_type": "code",
   "execution_count": 19,
   "metadata": {},
   "outputs": [
    {
     "data": {
      "text/plain": [
       "[<matplotlib.lines.Line2D at 0x1a48f735d0>]"
      ]
     },
     "execution_count": 19,
     "metadata": {},
     "output_type": "execute_result"
    },
    {
     "data": {
      "image/png": "[encoded data removed]",
      "text/plain": [
       "<Figure size 432x288 with 1 Axes>"
      ]
     },
     "metadata": {
      "needs_background": "light"
     },
     "output_type": "display_data"
    }
   ],
   "source": [
    "plt.plot(history.history['loss'])"
   ]
  },
  {
   "cell_type": "code",
   "execution_count": 23,
   "metadata": {},
   "outputs": [
    {
     "data": {
      "text/plain": [
       "[<matplotlib.lines.Line2D at 0x1a48d1b9d0>]"
      ]
     },
     "execution_count": 23,
     "metadata": {},
     "output_type": "execute_result"
    },
    {
     "data": {
      "image/png": "[encoded data removed]",
      "text/plain": [
       "<Figure size 432x288 with 1 Axes>"
      ]
     },
     "metadata": {
      "needs_background": "light"
     },
     "output_type": "display_data"
    }
   ],
   "source": [
    "plt.plot(history.history['accuracy'])"
   ]
  },
  {
   "cell_type": "markdown",
   "metadata": {},
   "source": [
    "## print(history.history.keys())"
   ]
  },
  {
   "cell_type": "code",
   "execution_count": 3,
   "metadata": {},
   "outputs": [
    {
     "ename": "TypeError",
     "evalue": "Unexpected keyword argument passed to optimizer: learning_rate",
     "output_type": "error",
     "traceback": [
      "\u001b[1;31m---------------------------------------------------------------------------\u001b[0m",
      "\u001b[1;31mTypeError\u001b[0m                                 Traceback (most recent call last)",
      "\u001b[1;32m<ipython-input-3-026072796b0e>\u001b[0m in \u001b[0;36m<module>\u001b[1;34m\u001b[0m\n\u001b[1;32m----> 1\u001b[1;33m \u001b[0mmodel3\u001b[0m\u001b[1;33m=\u001b[0m\u001b[0mload_model\u001b[0m\u001b[1;33m(\u001b[0m\u001b[1;34m'model3'\u001b[0m\u001b[1;33m)\u001b[0m\u001b[1;33m\u001b[0m\u001b[0m\n\u001b[0m",
      "\u001b[1;32m~\\Anaconda3\\envs\\python-cvcourse\\lib\\site-packages\\keras\\engine\\saving.py\u001b[0m in \u001b[0;36mload_model\u001b[1;34m(filepath, custom_objects, compile)\u001b[0m\n\u001b[0;32m    274\u001b[0m             \u001b[0moptimizer_config\u001b[0m \u001b[1;33m=\u001b[0m \u001b[0mtraining_config\u001b[0m\u001b[1;33m[\u001b[0m\u001b[1;34m'optimizer_config'\u001b[0m\u001b[1;33m]\u001b[0m\u001b[1;33m\u001b[0m\u001b[0m\n\u001b[0;32m    275\u001b[0m             optimizer = optimizers.deserialize(optimizer_config,\n\u001b[1;32m--> 276\u001b[1;33m                                                custom_objects=custom_objects)\n\u001b[0m\u001b[0;32m    277\u001b[0m \u001b[1;33m\u001b[0m\u001b[0m\n\u001b[0;32m    278\u001b[0m             \u001b[1;31m# Recover loss functions and metrics.\u001b[0m\u001b[1;33m\u001b[0m\u001b[1;33m\u001b[0m\u001b[0m\n",
      "\u001b[1;32m~\\Anaconda3\\envs\\python-cvcourse\\lib\\site-packages\\keras\\optimizers.py\u001b[0m in \u001b[0;36mdeserialize\u001b[1;34m(config, custom_objects)\u001b[0m\n\u001b[0;32m    758\u001b[0m                                     \u001b[0mmodule_objects\u001b[0m\u001b[1;33m=\u001b[0m\u001b[0mall_classes\u001b[0m\u001b[1;33m,\u001b[0m\u001b[1;33m\u001b[0m\u001b[0m\n\u001b[0;32m    759\u001b[0m                                     \u001b[0mcustom_objects\u001b[0m\u001b[1;33m=\u001b[0m\u001b[0mcustom_objects\u001b[0m\u001b[1;33m,\u001b[0m\u001b[1;33m\u001b[0m\u001b[0m\n\u001b[1;32m--> 760\u001b[1;33m                                     printable_module_name='optimizer')\n\u001b[0m\u001b[0;32m    761\u001b[0m \u001b[1;33m\u001b[0m\u001b[0m\n\u001b[0;32m    762\u001b[0m \u001b[1;33m\u001b[0m\u001b[0m\n",
      "\u001b[1;32m~\\Anaconda3\\envs\\python-cvcourse\\lib\\site-packages\\keras\\utils\\generic_utils.py\u001b[0m in \u001b[0;36mdeserialize_keras_object\u001b[1;34m(identifier, module_objects, custom_objects, printable_module_name)\u001b[0m\n\u001b[0;32m    145\u001b[0m                                         list(custom_objects.items())))\n\u001b[0;32m    146\u001b[0m             \u001b[1;32mwith\u001b[0m \u001b[0mCustomObjectScope\u001b[0m\u001b[1;33m(\u001b[0m\u001b[0mcustom_objects\u001b[0m\u001b[1;33m)\u001b[0m\u001b[1;33m:\u001b[0m\u001b[1;33m\u001b[0m\u001b[0m\n\u001b[1;32m--> 147\u001b[1;33m                 \u001b[1;32mreturn\u001b[0m \u001b[0mcls\u001b[0m\u001b[1;33m.\u001b[0m\u001b[0mfrom_config\u001b[0m\u001b[1;33m(\u001b[0m\u001b[0mconfig\u001b[0m\u001b[1;33m[\u001b[0m\u001b[1;34m'config'\u001b[0m\u001b[1;33m]\u001b[0m\u001b[1;33m)\u001b[0m\u001b[1;33m\u001b[0m\u001b[0m\n\u001b[0m\u001b[0;32m    148\u001b[0m         \u001b[1;32melse\u001b[0m\u001b[1;33m:\u001b[0m\u001b[1;33m\u001b[0m\u001b[0m\n\u001b[0;32m    149\u001b[0m             \u001b[1;31m# Then `cls` may be a function returning a class.\u001b[0m\u001b[1;33m\u001b[0m\u001b[1;33m\u001b[0m\u001b[0m\n",
      "\u001b[1;32m~\\Anaconda3\\envs\\python-cvcourse\\lib\\site-packages\\keras\\optimizers.py\u001b[0m in \u001b[0;36mfrom_config\u001b[1;34m(cls, config)\u001b[0m\n\u001b[0;32m    152\u001b[0m     \u001b[1;33m@\u001b[0m\u001b[0mclassmethod\u001b[0m\u001b[1;33m\u001b[0m\u001b[0m\n\u001b[0;32m    153\u001b[0m     \u001b[1;32mdef\u001b[0m \u001b[0mfrom_config\u001b[0m\u001b[1;33m(\u001b[0m\u001b[0mcls\u001b[0m\u001b[1;33m,\u001b[0m \u001b[0mconfig\u001b[0m\u001b[1;33m)\u001b[0m\u001b[1;33m:\u001b[0m\u001b[1;33m\u001b[0m\u001b[0m\n\u001b[1;32m--> 154\u001b[1;33m         \u001b[1;32mreturn\u001b[0m \u001b[0mcls\u001b[0m\u001b[1;33m(\u001b[0m\u001b[1;33m**\u001b[0m\u001b[0mconfig\u001b[0m\u001b[1;33m)\u001b[0m\u001b[1;33m\u001b[0m\u001b[0m\n\u001b[0m\u001b[0;32m    155\u001b[0m \u001b[1;33m\u001b[0m\u001b[0m\n\u001b[0;32m    156\u001b[0m \u001b[1;33m\u001b[0m\u001b[0m\n",
      "\u001b[1;32m~\\Anaconda3\\envs\\python-cvcourse\\lib\\site-packages\\keras\\optimizers.py\u001b[0m in \u001b[0;36m__init__\u001b[1;34m(self, lr, beta_1, beta_2, epsilon, decay, amsgrad, **kwargs)\u001b[0m\n\u001b[0;32m    453\u001b[0m     def __init__(self, lr=0.001, beta_1=0.9, beta_2=0.999,\n\u001b[0;32m    454\u001b[0m                  epsilon=None, decay=0., amsgrad=False, **kwargs):\n\u001b[1;32m--> 455\u001b[1;33m         \u001b[0msuper\u001b[0m\u001b[1;33m(\u001b[0m\u001b[0mAdam\u001b[0m\u001b[1;33m,\u001b[0m \u001b[0mself\u001b[0m\u001b[1;33m)\u001b[0m\u001b[1;33m.\u001b[0m\u001b[0m__init__\u001b[0m\u001b[1;33m(\u001b[0m\u001b[1;33m**\u001b[0m\u001b[0mkwargs\u001b[0m\u001b[1;33m)\u001b[0m\u001b[1;33m\u001b[0m\u001b[0m\n\u001b[0m\u001b[0;32m    456\u001b[0m         \u001b[1;32mwith\u001b[0m \u001b[0mK\u001b[0m\u001b[1;33m.\u001b[0m\u001b[0mname_scope\u001b[0m\u001b[1;33m(\u001b[0m\u001b[0mself\u001b[0m\u001b[1;33m.\u001b[0m\u001b[0m__class__\u001b[0m\u001b[1;33m.\u001b[0m\u001b[0m__name__\u001b[0m\u001b[1;33m)\u001b[0m\u001b[1;33m:\u001b[0m\u001b[1;33m\u001b[0m\u001b[0m\n\u001b[0;32m    457\u001b[0m             \u001b[0mself\u001b[0m\u001b[1;33m.\u001b[0m\u001b[0miterations\u001b[0m \u001b[1;33m=\u001b[0m \u001b[0mK\u001b[0m\u001b[1;33m.\u001b[0m\u001b[0mvariable\u001b[0m\u001b[1;33m(\u001b[0m\u001b[1;36m0\u001b[0m\u001b[1;33m,\u001b[0m \u001b[0mdtype\u001b[0m\u001b[1;33m=\u001b[0m\u001b[1;34m'int64'\u001b[0m\u001b[1;33m,\u001b[0m \u001b[0mname\u001b[0m\u001b[1;33m=\u001b[0m\u001b[1;34m'iterations'\u001b[0m\u001b[1;33m)\u001b[0m\u001b[1;33m\u001b[0m\u001b[0m\n",
      "\u001b[1;32m~\\Anaconda3\\envs\\python-cvcourse\\lib\\site-packages\\keras\\optimizers.py\u001b[0m in \u001b[0;36m__init__\u001b[1;34m(self, **kwargs)\u001b[0m\n\u001b[0;32m     77\u001b[0m             \u001b[1;32mif\u001b[0m \u001b[0mk\u001b[0m \u001b[1;32mnot\u001b[0m \u001b[1;32min\u001b[0m \u001b[0mallowed_kwargs\u001b[0m\u001b[1;33m:\u001b[0m\u001b[1;33m\u001b[0m\u001b[0m\n\u001b[0;32m     78\u001b[0m                 raise TypeError('Unexpected keyword argument '\n\u001b[1;32m---> 79\u001b[1;33m                                 'passed to optimizer: ' + str(k))\n\u001b[0m\u001b[0;32m     80\u001b[0m         \u001b[0mself\u001b[0m\u001b[1;33m.\u001b[0m\u001b[0m__dict__\u001b[0m\u001b[1;33m.\u001b[0m\u001b[0mupdate\u001b[0m\u001b[1;33m(\u001b[0m\u001b[0mkwargs\u001b[0m\u001b[1;33m)\u001b[0m\u001b[1;33m\u001b[0m\u001b[0m\n\u001b[0;32m     81\u001b[0m         \u001b[0mself\u001b[0m\u001b[1;33m.\u001b[0m\u001b[0mupdates\u001b[0m \u001b[1;33m=\u001b[0m \u001b[1;33m[\u001b[0m\u001b[1;33m]\u001b[0m\u001b[1;33m\u001b[0m\u001b[0m\n",
      "\u001b[1;31mTypeError\u001b[0m: Unexpected keyword argument passed to optimizer: learning_rate"
     ]
    }
   ],
   "source": [
    "model3=load_model('model3')"
   ]
  },
  {
   "cell_type": "code",
   "execution_count": null,
   "metadata": {},
   "outputs": [],
   "source": []
  }
 ],
 "metadata": {
  "kernelspec": {
   "display_name": "Python 3",
   "language": "python",
   "name": "python3"
  },
  "language_info": {
   "codemirror_mode": {
    "name": "ipython",
    "version": 3
   },
   "file_extension": ".py",
   "mimetype": "text/x-python",
   "name": "python",
   "nbconvert_exporter": "python",
   "pygments_lexer": "ipython3",
   "version": "3.6.6"
  }
 },
 "nbformat": 4,
 "nbformat_minor": 4
}
